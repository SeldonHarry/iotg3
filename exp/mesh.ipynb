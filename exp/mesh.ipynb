{
 "cells": [
  {
   "cell_type": "code",
   "execution_count": 2,
   "metadata": {},
   "outputs": [],
   "source": [
    "import open3d as o3d\n",
    "import numpy as np"
   ]
  },
  {
   "cell_type": "code",
   "execution_count": 3,
   "metadata": {},
   "outputs": [
    {
     "name": "stdout",
     "output_type": "stream",
     "text": [
      "[Open3D INFO] Downloading https://github.com/isl-org/open3d_downloads/releases/download/20220201-data/BunnyMesh.ply\n",
      "[Open3D INFO] Downloaded to /home/seldon/open3d_data/download/BunnyMesh/BunnyMesh.ply\n"
     ]
    },
    {
     "data": {
      "text/plain": [
       "TriangleMesh with 35947 points and 69451 triangles."
      ]
     },
     "execution_count": 3,
     "metadata": {},
     "output_type": "execute_result"
    }
   ],
   "source": [
    "bunny = o3d.data.BunnyMesh()\n",
    "mesh = o3d.io.read_triangle_mesh(bunny.path)\n",
    "mesh.compute_vertex_normals()"
   ]
  },
  {
   "cell_type": "code",
   "execution_count": 4,
   "metadata": {},
   "outputs": [
    {
     "name": "stdout",
     "output_type": "stream",
     "text": [
      "alpha=0.030\n"
     ]
    }
   ],
   "source": [
    "pcd = mesh.sample_points_poisson_disk(750)\n",
    "o3d.visualization.draw_geometries([pcd])\n",
    "alpha = 0.03\n",
    "print(f\"alpha={alpha:.3f}\")\n",
    "mesh = o3d.geometry.TriangleMesh.create_from_point_cloud_alpha_shape(pcd, alpha)\n",
    "mesh.compute_vertex_normals()\n",
    "o3d.visualization.draw_geometries([mesh], mesh_show_back_face=True)"
   ]
  },
  {
   "cell_type": "code",
   "execution_count": 5,
   "metadata": {},
   "outputs": [
    {
     "name": "stdout",
     "output_type": "stream",
     "text": [
      "alpha=0.500\n",
      "alpha=0.136\n",
      "alpha=0.037\n",
      "alpha=0.010\n"
     ]
    }
   ],
   "source": [
    "tetra_mesh, pt_map = o3d.geometry.TetraMesh.create_from_point_cloud(pcd)\n",
    "for alpha in np.logspace(np.log10(0.5), np.log10(0.01), num=4):\n",
    "    print(f\"alpha={alpha:.3f}\")\n",
    "    mesh = o3d.geometry.TriangleMesh.create_from_point_cloud_alpha_shape(\n",
    "        pcd, alpha, tetra_mesh, pt_map\n",
    "    )\n",
    "    mesh.compute_vertex_normals()\n",
    "    o3d.visualization.draw_geometries([mesh], mesh_show_back_face=True)"
   ]
  },
  {
   "cell_type": "code",
   "execution_count": 6,
   "metadata": {},
   "outputs": [],
   "source": [
    "bunny = o3d.data.BunnyMesh()\n",
    "gt_mesh = o3d.io.read_triangle_mesh(bunny.path)\n",
    "gt_mesh.compute_vertex_normals()\n",
    "\n",
    "pcd = gt_mesh.sample_points_poisson_disk(3000)\n",
    "o3d.visualization.draw_geometries([pcd])"
   ]
  },
  {
   "cell_type": "code",
   "execution_count": 7,
   "metadata": {},
   "outputs": [],
   "source": [
    "radii = [0.005, 0.01, 0.02, 0.04]\n",
    "rec_mesh = o3d.geometry.TriangleMesh.create_from_point_cloud_ball_pivoting(\n",
    "    pcd, o3d.utility.DoubleVector(radii)\n",
    ")\n",
    "o3d.visualization.draw_geometries([pcd, rec_mesh])"
   ]
  },
  {
   "cell_type": "code",
   "execution_count": 8,
   "metadata": {},
   "outputs": [],
   "source": [
    "bunny = o3d.data.BunnyMesh()\n",
    "gt_mesh = o3d.io.read_triangle_mesh(bunny.path)\n",
    "\n",
    "pcd = gt_mesh.sample_points_poisson_disk(5000)\n",
    "pcd.normals = o3d.utility.Vector3dVector(\n",
    "    np.zeros((1, 3))\n",
    ")  # invalidate existing normals\n",
    "\n",
    "pcd.estimate_normals()\n",
    "o3d.visualization.draw_geometries([pcd], point_show_normal=True)"
   ]
  },
  {
   "cell_type": "markdown",
   "metadata": {},
   "source": []
  },
  {
   "cell_type": "code",
   "execution_count": 10,
   "metadata": {},
   "outputs": [
    {
     "name": "stdout",
     "output_type": "stream",
     "text": [
      "[Open3D INFO] Downloading https://github.com/isl-org/open3d_downloads/releases/download/20220201-data/KnotMesh.ply\n",
      "[Open3D INFO] Downloaded to /home/seldon/open3d_data/download/KnotMesh/KnotMesh.ply\n",
      "[Open3D INFO] Downloading https://github.com/isl-org/open3d_downloads/releases/download/20220301-data/MonkeyModel.zip\n",
      "[Open3D INFO] Downloaded to /home/seldon/open3d_data/download/MonkeyModel/MonkeyModel.zip\n",
      "[Open3D INFO] Created directory /home/seldon/open3d_data/extract/MonkeyModel.\n",
      "[Open3D INFO] Extracting /home/seldon/open3d_data/download/MonkeyModel/MonkeyModel.zip.\n",
      "[Open3D INFO] Extracted to /home/seldon/open3d_data/extract/MonkeyModel.\n",
      "[Open3D INFO] Downloading https://github.com/isl-org/open3d_downloads/releases/download/20220301-data/SwordModel.zip\n",
      "[Open3D INFO] Downloaded to /home/seldon/open3d_data/download/SwordModel/SwordModel.zip\n",
      "[Open3D INFO] Created directory /home/seldon/open3d_data/extract/SwordModel.\n",
      "[Open3D INFO] Extracting /home/seldon/open3d_data/download/SwordModel/SwordModel.zip.\n",
      "[Open3D INFO] Extracted to /home/seldon/open3d_data/extract/SwordModel.\n",
      "[Open3D INFO] Downloading https://github.com/isl-org/open3d_downloads/releases/download/20220301-data/FlightHelmetModel.zip\n",
      "[Open3D INFO] Downloaded to /home/seldon/open3d_data/download/FlightHelmetModel/FlightHelmetModel.zip\n",
      "[Open3D INFO] Created directory /home/seldon/open3d_data/extract/FlightHelmetModel.\n",
      "[Open3D INFO] Extracting /home/seldon/open3d_data/download/FlightHelmetModel/FlightHelmetModel.zip.\n",
      "[Open3D INFO] Extracted to /home/seldon/open3d_data/extract/FlightHelmetModel.\n",
      "[Open3D INFO] Downloading https://github.com/isl-org/open3d_downloads/releases/download/20220301-data/DamagedHelmetModel.glb\n",
      "[Open3D INFO] Downloaded to /home/seldon/open3d_data/download/DamagedHelmetModel/DamagedHelmetModel.glb\n",
      "[Open3D INFO] Downloading https://github.com/isl-org/open3d_downloads/releases/download/20220301-data/SampleRedwoodRGBDImages.zip\n",
      "[Open3D INFO] Downloaded to /home/seldon/open3d_data/download/SampleRedwoodRGBDImages/SampleRedwoodRGBDImages.zip\n",
      "[Open3D INFO] Created directory /home/seldon/open3d_data/extract/SampleRedwoodRGBDImages.\n",
      "[Open3D INFO] Extracting /home/seldon/open3d_data/download/SampleRedwoodRGBDImages/SampleRedwoodRGBDImages.zip.\n",
      "[Open3D INFO] Extracted to /home/seldon/open3d_data/extract/SampleRedwoodRGBDImages.\n",
      "[Open3D INFO] Downloading https://github.com/isl-org/open3d_downloads/releases/download/20220201-data/SampleFountainRGBDImages.zip\n",
      "[Open3D INFO] Downloaded to /home/seldon/open3d_data/download/SampleFountainRGBDImages/SampleFountainRGBDImages.zip\n",
      "[Open3D INFO] Created directory /home/seldon/open3d_data/extract/SampleFountainRGBDImages.\n",
      "[Open3D INFO] Extracting /home/seldon/open3d_data/download/SampleFountainRGBDImages/SampleFountainRGBDImages.zip.\n",
      "[Open3D INFO] Extracted to /home/seldon/open3d_data/extract/SampleFountainRGBDImages.\n"
     ]
    }
   ],
   "source": [
    "dataset = o3d.data.PCDPointCloud()\n",
    "pcd = o3d.io.read_point_cloud(dataset.path)\n",
    "dataset = o3d.data.PLYPointCloud()\n",
    "pcd = o3d.io.read_point_cloud(dataset.path)\n",
    "dataset = o3d.data.LivingRoomPointClouds()\n",
    "pcds = []\n",
    "for pcd_path in dataset.paths:\n",
    "    pcds.append(o3d.io.read_point_cloud(pcd_path))\n",
    "    dataset = o3d.data.OfficePointClouds()\n",
    "pcds = []\n",
    "for pcd_path in dataset.paths:\n",
    "    pcds.append(o3d.io.read_point_cloud(pcd_path))\n",
    "\n",
    "dataset = o3d.data.BunnyMesh()\n",
    "mesh = o3d.io.read_triangle_mesh(dataset.path)\n",
    "dataset = o3d.data.KnotMesh()\n",
    "mesh = o3d.io.read_triangle_mesh(dataset.path)\n",
    "dataset = o3d.data.MonkeyModel()\n",
    "model = o3d.io.read_triangle_model(dataset.path)\n",
    "dataset = o3d.data.SwordModel()\n",
    "model = o3d.io.read_triangle_model(dataset.path)\n",
    "dataset = o3d.data.FlightHelmetModel()\n",
    "model = o3d.io.read_triangle_model(dataset.path)\n",
    "dataset = o3d.data.DamagedHelmetModel()\n",
    "model = o3d.io.read_triangle_model(dataset.path)\n",
    "\n",
    "dataset = o3d.data.SampleRedwoodRGBDImages()\n",
    "\n",
    "rgbd_images = []\n",
    "for i in range(len(dataset.depth_paths)):\n",
    "    color_raw = o3d.io.read_image(dataset.color_paths[i])\n",
    "    depth_raw = o3d.io.read_image(dataset.depth_paths[i])\n",
    "    rgbd_image = o3d.geometry.RGBDImage.create_from_color_and_depth(\n",
    "        color_raw, depth_raw\n",
    "    )\n",
    "    rgbd_images.append(rgbd_image)\n",
    "\n",
    "pcd = o3d.io.read_point_cloud(dataset.reconstruction_path)\n",
    "\n",
    "dataset = o3d.data.SampleFountainRGBDImages()\n",
    "\n",
    "rgbd_images = []\n",
    "for i in range(len(dataset.depth_paths)):\n",
    "    depth = o3d.io.read_image(dataset.depth_paths[i])\n",
    "    color = o3d.io.read_image(dataset.color_paths[i])\n",
    "    rgbd_image = o3d.geometry.RGBDImage.create_from_color_and_depth(\n",
    "        color, depth, convert_rgb_to_intensity=False\n",
    "    )\n",
    "    rgbd_images.append(rgbd_image)\n",
    "\n",
    "camera_trajectory = o3d.io.read_pinhole_camera_trajectory(\n",
    "    dataset.keyframe_poses_log_path\n",
    ")\n",
    "mesh = o3d.io.read_triangle_mesh(dataset.reconstruction_path)"
   ]
  },
  {
   "cell_type": "code",
   "execution_count": 11,
   "metadata": {},
   "outputs": [
    {
     "name": "stdout",
     "output_type": "stream",
     "text": [
      "[Open3D INFO] Downloading https://github.com/isl-org/open3d_downloads/releases/download/20220201-data/DemoFeatureMatchingPointClouds.zip\n",
      "[Open3D INFO] Downloaded to /home/seldon/open3d_data/download/DemoFeatureMatchingPointClouds/DemoFeatureMatchingPointClouds.zip\n",
      "[Open3D INFO] Created directory /home/seldon/open3d_data/extract/DemoFeatureMatchingPointClouds.\n",
      "[Open3D INFO] Extracting /home/seldon/open3d_data/download/DemoFeatureMatchingPointClouds/DemoFeatureMatchingPointClouds.zip.\n",
      "[Open3D INFO] Extracted to /home/seldon/open3d_data/extract/DemoFeatureMatchingPointClouds.\n"
     ]
    }
   ],
   "source": [
    "dataset = o3d.data.DemoFeatureMatchingPointClouds()\n",
    "\n",
    "pcd0 = o3d.io.read_point_cloud(dataset.point_cloud_paths[0])\n",
    "pcd1 = o3d.io.read_point_cloud(dataset.point_cloud_paths[1])\n",
    "\n",
    "fpfh_feature0 = o3d.io.read_feature(dataset.fpfh_feature_paths[0])\n",
    "fpfh_feature1 = o3d.io.read_feature(dataset.fpfh_feature_paths[1])\n",
    "\n",
    "l32d_feature0 = o3d.io.read_feature(dataset.l32d_feature_paths[0])\n",
    "l32d_feature1 = o3d.io.read_feature(dataset.l32d_feature_paths[1])"
   ]
  }
 ],
 "metadata": {
  "kernelspec": {
   "display_name": "MCE",
   "language": "python",
   "name": "python3"
  },
  "language_info": {
   "codemirror_mode": {
    "name": "ipython",
    "version": 3
   },
   "file_extension": ".py",
   "mimetype": "text/x-python",
   "name": "python",
   "nbconvert_exporter": "python",
   "pygments_lexer": "ipython3",
   "version": "3.10.16"
  }
 },
 "nbformat": 4,
 "nbformat_minor": 2
}
