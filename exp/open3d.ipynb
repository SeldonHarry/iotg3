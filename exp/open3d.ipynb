{
 "cells": [
  {
   "cell_type": "code",
   "execution_count": 1,
   "metadata": {},
   "outputs": [
    {
     "name": "stdout",
     "output_type": "stream",
     "text": [
      "Jupyter environment detected. Enabling Open3D WebVisualizer.\n",
      "[Open3D INFO] WebRTC GUI backend enabled.\n",
      "[Open3D INFO] WebRTCWindowSystem: HTTP handshake server disabled.\n"
     ]
    }
   ],
   "source": [
    "import open3d as o3d\n",
    "import numpy as np\n",
    "import os\n",
    "import cv2\n",
    "import copy\n",
    "\n",
    "storage_path = \"data/\"\n",
    "isRunning = True"
   ]
  },
  {
   "cell_type": "code",
   "execution_count": 2,
   "metadata": {},
   "outputs": [],
   "source": [
    "def key_callback(vis, action, mods):\n",
    "    global isRunning\n",
    "    if action == 0:\n",
    "        isRunning = False"
   ]
  },
  {
   "cell_type": "code",
   "execution_count": 3,
   "metadata": {},
   "outputs": [],
   "source": [
    "# 首先尝试从data中打开文件\n",
    "# 复现点云\n",
    "filename_str = \"dormitory\"  # lab_table lab_box dormitory\n",
    "pt_data = np.load(f\"../data/{filename_str}.npz\")\n",
    "points = pt_data[\"points\"]\n",
    "colors = pt_data[\"colors\"]\n",
    "vis = o3d.visualization.VisualizerWithKeyCallback()\n",
    "vis.create_window()\n",
    "vis.register_key_action_callback(81, key_callback)\n",
    "pcd = o3d.geometry.PointCloud()\n",
    "coordinateFrame = o3d.geometry.TriangleMesh.create_coordinate_frame(\n",
    "    size=1000, origin=[0, 0, 0]\n",
    ")\n",
    "vis.add_geometry(coordinateFrame)\n",
    "\n",
    "pcd.points = o3d.utility.Vector3dVector(points)\n",
    "pcd.colors = o3d.utility.Vector3dVector(colors)\n",
    "vis.add_geometry(pcd)\n",
    "vis.poll_events()\n",
    "vis.update_renderer()\n",
    "while isRunning:\n",
    "    key = cv2.waitKey(1)\n",
    "    vis.update_geometry(pcd)\n",
    "    if key == ord(\"q\"):\n",
    "        break\n",
    "\n",
    "    vis.poll_events()\n",
    "    vis.update_renderer()\n",
    "\n",
    "\n",
    "vis.destroy_window()"
   ]
  },
  {
   "cell_type": "code",
   "execution_count": 4,
   "metadata": {},
   "outputs": [
    {
     "name": "stdout",
     "output_type": "stream",
     "text": [
      "3D Points Cloud shape:  (230400, 3)\n",
      "Color img shape:  (230400, 3)\n"
     ]
    },
    {
     "data": {
      "text/plain": [
       "array([0.85490196, 0.89411765, 0.9254902 ])"
      ]
     },
     "execution_count": 4,
     "metadata": {},
     "output_type": "execute_result"
    }
   ],
   "source": [
    "print(\"3D Points Cloud shape: \", points.shape)\n",
    "print(\"Color img shape: \", colors.shape)\n",
    "colors[1]"
   ]
  },
  {
   "cell_type": "code",
   "execution_count": 5,
   "metadata": {},
   "outputs": [],
   "source": [
    "# 尝试生成原来格式的图片\n",
    "Height = 40 * 9\n",
    "Width = 40 * 16\n",
    "channels = 3\n",
    "assert Height * Width == points.shape[0]\n",
    "\n",
    "rescale_colors = 255 * colors\n",
    "rescale_colors = rescale_colors.astype(np.uint8).reshape((Height, Width, channels))\n",
    "rescale_colors = cv2.cvtColor(rescale_colors, cv2.COLOR_RGB2BGR)\n",
    "cv2.imshow(\"Image\", rescale_colors)\n",
    "cv2.waitKey(0)\n",
    "cv2.destroyAllWindows()\n",
    "# 因此这个图片可以用来做基于AI模型的分割，然后思考出一个算法（或者借鉴一个算法）映射到PointCloud的上面\n",
    "# 发现1：应当把距离过于大的点给滤去，否则无法正常显示;同时，应该把图片中对应的点给抹去\n",
    "# 否则只能在极好的场景下做测试"
   ]
  },
  {
   "cell_type": "code",
   "execution_count": null,
   "metadata": {},
   "outputs": [
    {
     "name": "stdout",
     "output_type": "stream",
     "text": [
      "Poisson mesh created successfully.\n",
      "Saving mesh to reconstructed_mesh.obj...\n",
      "Mesh saved successfully to reconstructed_mesh.obj\n"
     ]
    }
   ],
   "source": [
    "# 使用open3d的接口将pointcloud文件直接转化为基于mesh的obj文件提供三种方法： BPA PSR Alpha-Shape\n",
    "method_idx = 1  # 1,2,3 for different method\n",
    "\n",
    "pcd_test = copy.deepcopy(pcd)  # 深拷贝\n",
    "pcd_test.estimate_normals(\n",
    "    search_param=o3d.geometry.KDTreeSearchParamHybrid(radius=0.5, max_nn=30)\n",
    ")\n",
    "# 可以使用 pcd_tets.orient_normals_consistent_tangent_plane(k=10) 来尝试统一法线方向\n",
    "# 或者 pcd_test.orient_normals_towards_camera_location(camera_location=np.array([0.,0.,0.]))\n",
    "\n",
    "# 表面重建 (选择一种算法)\n",
    "# 注意：Poisson重建可能会在点云的凸包区域创建表面，即使那里没有点。\n",
    "# width 参数可以用来控制这种行为，较低的width值会使重建更紧密地贴合点云。\n",
    "try:\n",
    "    mesh_poisson, densities = o3d.geometry.TriangleMesh.create_from_point_cloud_poisson(\n",
    "        pcd_test, depth=8, width=0, scale=1.1, linear_fit=False\n",
    "    )\n",
    "    # 可以选择基于密度去除低置信度的三角面片\n",
    "    # print(\"Removing low density triangles...\")\n",
    "    # vertices_to_remove = densities < np.quantile(densities, 0.01) # 移除密度最低1%的顶点相关的面片\n",
    "    # mesh_poisson.remove_vertices_by_mask(vertices_to_remove)\n",
    "    if mesh_poisson.has_triangles():\n",
    "        print(\"Poisson mesh created successfully.\")\n",
    "        mesh_to_save = mesh_poisson\n",
    "        # Poisson重建的mesh通常是水密的，但可能需要裁剪掉远离点云的部分。\n",
    "        # 这里可以添加一个裁剪步骤，例如使用点云的包围盒。\n",
    "        # bbox = pcd.get_axis_aligned_bounding_box()\n",
    "        # mesh_to_save = mesh_poisson.crop(bbox)\n",
    "\n",
    "    else:\n",
    "        print(\"Poisson failed to create triangles.\")\n",
    "        if \"mesh_to_save\" not in locals() or mesh_to_save is None:  # 如果BPA也没成功\n",
    "            mesh_to_save = None\n",
    "except Exception as e:\n",
    "    print(f\"Poisson reconstruction failed: {e}\")\n",
    "    if \"mesh_to_save\" not in locals() or mesh_to_save is None:  # 如果BPA也没成功\n",
    "        mesh_to_save = None\n",
    "\n",
    "# 保存\n",
    "if (\n",
    "    \"mesh_to_save\" in locals()\n",
    "    and mesh_to_save is not None\n",
    "    and mesh_to_save.has_triangles()\n",
    "):\n",
    "    # 可选: 对Mesh进行后处理，如平滑、简化等\n",
    "    # mesh_to_save = mesh_to_save.filter_smooth_simple(number_of_iterations=5)\n",
    "    # mesh_to_save = mesh_to_save.simplify_quadric_decimation(target_number_of_triangles=max(1, len(mesh_to_save.triangles) // 2))\n",
    "\n",
    "    # 4. 保存为.obj文件\n",
    "    output_obj_file = \"reconstructed_mesh.obj\"\n",
    "    print(f\"Saving mesh to {output_obj_file}...\")\n",
    "    # write_triangle_mesh 函数可以保存多种格式，通过文件扩展名判断\n",
    "    # 它会自动处理顶点、法线（如果计算了）和面。\n",
    "    # 如果点云有颜色，并且你想在mesh中保留顶点颜色，需要确保mesh在重建时也保留了颜色信息。\n",
    "    # BPA 和 Alpha Shapes 通常能直接从输入点云继承颜色（如果法线估计后颜色还在）。\n",
    "    # Poisson重建的mesh可能不会直接继承颜色，你可能需要将颜色从原始pcd传递给生成的mesh顶点。\n",
    "    # if pcd.has_colors() and mesh_to_save.has_vertices():\n",
    "    #     # 简单的颜色传递方法：基于最近邻顶点赋予颜色\n",
    "    #     # 注意：这仅在mesh顶点与原始点云顶点有良好对应时效果较好\n",
    "    #     print(\"Attempting to color mesh based on original point cloud...\")\n",
    "    #     kdtree = o3d.geometry.KDTreeFlann(pcd)\n",
    "    #     mesh_vertex_colors = np.zeros_like(np.asarray(mesh_to_save.vertices))\n",
    "    #     for i, vert in enumerate(mesh_to_save.vertices):\n",
    "    #         [_, idx, _] = kdtree.search_knn_vector_3d(vert, 1)\n",
    "    #         mesh_vertex_colors[i] = pcd.colors[idx[0]]\n",
    "    #     mesh_to_save.vertex_colors = o3d.utility.Vector3dVector(mesh_vertex_colors)\n",
    "\n",
    "    success = o3d.io.write_triangle_mesh(\n",
    "        output_obj_file,\n",
    "        mesh_to_save,\n",
    "        write_vertex_normals=True,\n",
    "        write_vertex_colors=False,\n",
    "    )\n",
    "    if success:\n",
    "        print(f\"Mesh saved successfully to {output_obj_file}\")\n",
    "    else:\n",
    "        print(f\"Failed to save mesh to {output_obj_file}\")"
   ]
  },
  {
   "cell_type": "code",
   "execution_count": null,
   "metadata": {},
   "outputs": [],
   "source": []
  }
 ],
 "metadata": {
  "kernelspec": {
   "display_name": "CV",
   "language": "python",
   "name": "python3"
  },
  "language_info": {
   "codemirror_mode": {
    "name": "ipython",
    "version": 3
   },
   "file_extension": ".py",
   "mimetype": "text/x-python",
   "name": "python",
   "nbconvert_exporter": "python",
   "pygments_lexer": "ipython3",
   "version": "3.10.16"
  }
 },
 "nbformat": 4,
 "nbformat_minor": 2
}
