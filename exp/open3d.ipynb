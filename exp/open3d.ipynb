{
 "cells": [
  {
   "cell_type": "code",
   "execution_count": 4,
   "metadata": {},
   "outputs": [],
   "source": [
    "import open3d as o3d\n",
    "import numpy as np\n",
    "import os\n",
    "import cv2\n",
    "\n",
    "storage_path = \"data/\"\n",
    "isRunning = True"
   ]
  },
  {
   "cell_type": "code",
   "execution_count": 5,
   "metadata": {},
   "outputs": [],
   "source": [
    "def key_callback(vis, action, mods):\n",
    "    global isRunning\n",
    "    if action == 0:\n",
    "        isRunning = False"
   ]
  },
  {
   "cell_type": "code",
   "execution_count": null,
   "metadata": {},
   "outputs": [],
   "source": [
    "# 首先尝试从data中打开文件\n",
    "# 复现点云\n",
    "pt_data = np.load(\"../data/data_ptc.npz\")\n",
    "points = pt_data[\"points\"]\n",
    "colors = pt_data[\"colors\"]\n",
    "\n",
    "vis = o3d.visualization.VisualizerWithKeyCallback()\n",
    "vis.create_window()\n",
    "vis.register_key_action_callback(81, key_callback)\n",
    "pcd = o3d.geometry.PointCloud()\n",
    "coordinateFrame = o3d.geometry.TriangleMesh.create_coordinate_frame(\n",
    "    size=1000, origin=[0, 0, 0]\n",
    ")\n",
    "vis.add_geometry(coordinateFrame)\n",
    "\n",
    "pcd.points = o3d.utility.Vector3dVector(points)\n",
    "pcd.colors = o3d.utility.Vector3dVector(colors)\n",
    "vis.add_geometry(pcd)\n",
    "vis.poll_events()\n",
    "vis.update_renderer()\n",
    "while isRunning:\n",
    "    key = cv2.waitKey(1)\n",
    "    vis.update_geometry(pcd)\n",
    "    if key == ord(\"q\"):\n",
    "        break\n",
    "\n",
    "    vis.poll_events()\n",
    "    vis.update_renderer()\n",
    "\n",
    "\n",
    "vis.destroy_window()"
   ]
  },
  {
   "cell_type": "code",
   "execution_count": null,
   "metadata": {},
   "outputs": [],
   "source": []
  }
 ],
 "metadata": {
  "kernelspec": {
   "display_name": "MCE",
   "language": "python",
   "name": "python3"
  },
  "language_info": {
   "codemirror_mode": {
    "name": "ipython",
    "version": 3
   },
   "file_extension": ".py",
   "mimetype": "text/x-python",
   "name": "python",
   "nbconvert_exporter": "python",
   "pygments_lexer": "ipython3",
   "version": "3.10.16"
  }
 },
 "nbformat": 4,
 "nbformat_minor": 2
}
